{
 "cells": [
  {
   "cell_type": "code",
   "execution_count": null,
   "metadata": {
    "id": "iODWmsYsK334"
   },
   "outputs": [],
   "source": []
  },
  {
   "cell_type": "markdown",
   "metadata": {
    "id": "1FN4caxPK9PK"
   },
   "source": [
    "## Introduction\n",
    "\n",
    "In this homework, you will explore the California Housing Dataset. You will begin by loading and accessing the dataset, then proceed to explore its distributions and correlations. Next, you will apply feature transformation techniques, such as log transformation and one-hot encoding, to prepare the data for analysis.\n",
    "\n",
    "By the end of this assignment, you will have gained hands-on experience in data preprocessing, an essential step in any data mining project. Complete the required tasks using Python code in a Jupyter Notebook. For textual responses, insert a text block and write your answers using Markdown."
   ]
  },
  {
   "cell_type": "markdown",
   "metadata": {
    "id": "2o1_7lzRK9wS"
   },
   "source": [
    "## California Housing Dataset\n",
    "\n",
    "### Data Set Columns:\n",
    "\n",
    "1. **longitude:** A measure of how far west a house is located; higher values indicate a location farther west.\n",
    "2. **latitude:** A measure of how far north a house is located; higher values indicate a location farther north.\n",
    "3. **housingMedianAge:** The median age of houses within a block; lower numbers represent newer buildings.\n",
    "4. **totalRooms:** The total number of rooms within a block.\n",
    "5. **totalBedrooms:** The total number of bedrooms within a block.\n",
    "6. **population:** The total number of people residing within a block.\n",
    "7. **households:** The total number of households, where a household is defined as a group of people residing in a single home unit, within a block.\n",
    "8. **medianIncome:** The median income for households within a block (measured in tens of thousands of US dollars).\n",
    "9. **medianHouseValue:** The median house value for households within a block (measured in US dollars).\n",
    "10. **oceanProximity:** The location of the house in relation to the ocean or sea.\n",
    "\n",
    "### References:\n",
    "\n",
    "- Pace, R. Kelley, and Ronald Barry. \"Sparse Spatial Autoregressions.\" *Statistics and Probability Letters*, 33 (1997): 291-297.\n"
   ]
  },
  {
   "cell_type": "markdown",
   "metadata": {
    "id": "Tbz_mA0_K9gu"
   },
   "source": [
    "### Question 1: Access and Explore the Dataset\n",
    "\n",
    "1. **Load the Dataset:**\n",
    "   - Use the `pandas.read_csv()` function to load the California Housing Dataset. The dataset will be provided to you as a CSV file.\n",
    "   \n",
    "    Follow this link for more details on how to use `read_csv`: [pandas.read_csv() Documentation](https://pandas.pydata.org/docs/reference/api/pandas.read_csv.html).\n",
    "\n",
    "2. **View the Dataset:**\n",
    "   - Display the first few rows of the dataset using the `head()` method to get an initial understanding of its structure.\n",
    "   \n",
    "    Refer to this link for details: [pandas.DataFrame.head() Documentation](https://pandas.pydata.org/pandas-docs/stable/reference/api/pandas.DataFrame.head.html).\n",
    "   - Generate a statistical summary of the dataset using the `describe()` method. This will give you insights into the distribution and basic statistics of each column.\n",
    "   \n",
    "    For more information, visit: [pandas.DataFrame.describe() Documentation](https://pandas.pydata.org/docs/reference/api/pandas.DataFrame.describe.html)."
   ]
  },
  {
   "cell_type": "code",
   "execution_count": null,
   "metadata": {
    "id": "NlU6PP82K8vE"
   },
   "outputs": [],
   "source": []
  },
  {
   "cell_type": "code",
   "execution_count": null,
   "metadata": {
    "id": "NM7xXHeJK8yV"
   },
   "outputs": [],
   "source": []
  },
  {
   "cell_type": "markdown",
   "metadata": {
    "id": "iN9EPcztK9sg"
   },
   "source": [
    "### Question 2: Examine Column Distributions\n",
    "\n",
    "1. **Plot Box-and-Whisker Plots:**\n",
    "   - Use the `boxplot()` function from `pandas` to create box-and-whisker plots for each of the following columns. This will help you visualize the distribution, identify outliers, and understand the spread of the data.\n",
    "   [pandas.DataFrame.boxplot() Documentation](https://pandas.pydata.org/docs/reference/api/pandas.DataFrame.boxplot.html)\n",
    "   \n",
    "   - Columns to plot:\n",
    "     - `housingMedianAge`\n",
    "     - `medianIncome`\n",
    "     - `medianHouseValue`\n",
    "\n",
    "2. **Plot Histograms:**\n",
    "   - Use the `hist()` function to create histograms for each of the following columns. This will allow you to examine the distribution and identify any patterns such as skewness or bimodality.\n",
    "   [pandas.DataFrame.hist() Documentation](https://pandas.pydata.org/docs/reference/api/pandas.DataFrame.hist.html)\n",
    "\n",
    "   - Columns to plot:\n",
    "     - `housingMedianAge`\n",
    "     - `medianIncome`\n",
    "     - `medianHouseValue`\n"
   ]
  },
  {
   "cell_type": "code",
   "execution_count": null,
   "metadata": {
    "id": "IxmY8xbaK81P"
   },
   "outputs": [],
   "source": []
  },
  {
   "cell_type": "code",
   "execution_count": null,
   "metadata": {
    "id": "cNhDJ286K84T"
   },
   "outputs": [],
   "source": []
  },
  {
   "cell_type": "markdown",
   "metadata": {
    "id": "yCa7BSgIMNbF"
   },
   "source": [
    "### Question 3: Examine Correlations Among Numerical Columns\n",
    "\n",
    "1. **Calculate the Correlation Matrix:**\n",
    "   - Use the `.corr()` method in `pandas` to calculate the correlation matrix for all numerical columns in the dataset. This will help you understand the relationships between different numerical features.\n",
    "\n",
    "    [pandas.DataFrame.corr() Documentation](https://pandas.pydata.org/docs/reference/api/pandas.DataFrame.corr.html)\n",
    "\n",
    "   - Columns to include in the correlation matrix:\n",
    "     - `longitude`\n",
    "     - `latitude`\n",
    "     - `housingMedianAge`\n",
    "     - `totalRooms`\n",
    "     - `totalBedrooms`\n",
    "     - `population`\n",
    "     - `households`\n",
    "     - `medianIncome`\n",
    "     - `medianHouseValue`\n",
    "\n",
    "2. **Display the Correlation Matrix:**\n",
    "   - Visualize the correlation matrix using the `heatmap` function from `seaborn`. This will allow you to see the strength and direction of correlations between the numerical columns.\n",
    "   \n",
    "    [seaborn.heatmap() Documentation](https://seaborn.pydata.org/generated/seaborn.heatmap.html)\n",
    "\n",
    "   - After visualizing, identify and note the highest and lowest correlations between pairs of columns.\n",
    "\n"
   ]
  },
  {
   "cell_type": "code",
   "execution_count": null,
   "metadata": {
    "id": "doBRuHgcMNqp"
   },
   "outputs": [],
   "source": []
  },
  {
   "cell_type": "code",
   "execution_count": null,
   "metadata": {
    "id": "ln6_g8TsMNtd"
   },
   "outputs": [],
   "source": []
  },
  {
   "cell_type": "markdown",
   "metadata": {
    "id": "EQL_0Ttl-7eE"
   },
   "source": [
    "### Authentication: Write Down Your Information\n",
    "\n",
    "In the following code block, print your Student ID, Name, and Homework number in the specified format:\n",
    "\n",
    "```python\n",
    "# Replace the placeholders with your actual information\n",
    "info = [yourid, yourname, homework_number]\n",
    "for id, name, homework in info:\n",
    "    print(f'ID: {id}\\nName: {name}\\nHomework: {homework}')\n"
   ]
  },
  {
   "cell_type": "code",
   "execution_count": 8,
   "metadata": {
    "colab": {
     "base_uri": "https://localhost:8080/"
    },
    "id": "7gXfSXeHMNwU",
    "outputId": "bde51340-0475-45bc-94d2-d6a991ec47f4"
   },
   "outputs": [
    {
     "name": "stdout",
     "output_type": "stream",
     "text": [
      "ID: 1001\n",
      "Name: Jon Doe\n",
      "Homework: 001\n"
     ]
    }
   ],
   "source": [
    "info = [('1001', 'Jon Doe', '001')]\n",
    "for id, name, homework in info:\n",
    "    print(f'ID: {id}\\nName: {name}\\nHomework: {homework}')"
   ]
  },
  {
   "cell_type": "markdown",
   "metadata": {
    "id": "lN7L7sO5NZq-"
   },
   "source": [
    "### Question 4: Feature Transformation\n",
    "\n",
    "1. **Apply One-Hot Encoding:**\n",
    "   - Use the `OneHotEncoder` from `sklearn.preprocessing` to transform the `ocean_proximity` column into multiple binary (0/1) columns.\n",
    "   \n",
    "    [OneHotEncoder Documentation](https://scikit-learn.org/stable/modules/generated/sklearn.preprocessing.OneHotEncoder.html)\n",
    "   - Ensure that the new columns accurately represent the different categories within `ocean_proximity`.\n",
    "   - Display the first 5 rows of the transformed DataFrame to verify the changes.\n",
    "\n",
    "2. **Apply Log Transformation:**\n",
    "   - Use the `log` function from either the `math` or `numpy` library to transform the `households` column.\n",
    "   \n",
    "    [Log Documentation](https://numpy.org/doc/stable/reference/generated/numpy.log.html)\n",
    "   - Plot histograms of the `households` column both before and after the log transformation to compare the distributions.\n"
   ]
  },
  {
   "cell_type": "code",
   "execution_count": null,
   "metadata": {
    "id": "c0jSrwgKNZy6"
   },
   "outputs": [],
   "source": []
  },
  {
   "cell_type": "code",
   "execution_count": null,
   "metadata": {
    "id": "9mKgjDmcNZ1s"
   },
   "outputs": [],
   "source": []
  },
  {
   "cell_type": "code",
   "execution_count": null,
   "metadata": {
    "id": "Ro8ThPYUNZ4s"
   },
   "outputs": [],
   "source": []
  },
  {
   "cell_type": "code",
   "execution_count": null,
   "metadata": {
    "id": "4JdvR0HVNZ7m"
   },
   "outputs": [],
   "source": []
  },
  {
   "cell_type": "code",
   "execution_count": null,
   "metadata": {
    "id": "9OlVBFriNZ92"
   },
   "outputs": [],
   "source": []
  }
 ],
 "metadata": {
  "colab": {
   "provenance": []
  },
  "kernelspec": {
   "display_name": "Python 3 (ipykernel)",
   "language": "python",
   "name": "python3"
  },
  "language_info": {
   "codemirror_mode": {
    "name": "ipython",
    "version": 3
   },
   "file_extension": ".py",
   "mimetype": "text/x-python",
   "name": "python",
   "nbconvert_exporter": "python",
   "pygments_lexer": "ipython3",
   "version": "3.9.13"
  }
 },
 "nbformat": 4,
 "nbformat_minor": 1
}
